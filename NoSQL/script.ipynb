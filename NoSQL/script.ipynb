{
 "cells": [
  {
   "cell_type": "code",
   "execution_count": 40,
   "id": "cbf4bda5",
   "metadata": {},
   "outputs": [],
   "source": [
    "import boto3\n",
    "import os\n",
    "\n",
    "# create an s3 instance object\n",
    "s3 = boto3.resource('s3',\n",
    "                    aws_access_key_id=os.getenv('AWS_ACCESS_KEY'),\n",
    "                    aws_secret_access_key=os.getenv('AWS_SECRET_ACCESS_KEY') \n",
    "                   )"
   ]
  },
  {
   "cell_type": "code",
   "execution_count": 42,
   "id": "40b4ee28",
   "metadata": {},
   "outputs": [
    {
     "name": "stdout",
     "output_type": "stream",
     "text": [
      "An error occurred (BucketAlreadyOwnedByYou) when calling the CreateBucket operation: Your previous request to create the named bucket succeeded and you already own it.\n"
     ]
    },
    {
     "data": {
      "text/plain": [
       "{'ResponseMetadata': {'RequestId': 'DCZGXXA424DXQW6R',\n",
       "  'HostId': 'Xo6y8NJDTz6jk5+kAVmOX4XP2k8WOvZuJa+5dGKhaKgvDsuj89XazqP5JLLwepXdFqvYt9WG0Ws=',\n",
       "  'HTTPStatusCode': 200,\n",
       "  'HTTPHeaders': {'x-amz-id-2': 'Xo6y8NJDTz6jk5+kAVmOX4XP2k8WOvZuJa+5dGKhaKgvDsuj89XazqP5JLLwepXdFqvYt9WG0Ws=',\n",
       "   'x-amz-request-id': 'DCZGXXA424DXQW6R',\n",
       "   'date': 'Wed, 20 Oct 2021 00:03:01 GMT',\n",
       "   'server': 'AmazonS3',\n",
       "   'content-length': '0'},\n",
       "  'RetryAttempts': 1}}"
      ]
     },
     "execution_count": 42,
     "metadata": {},
     "output_type": "execute_result"
    }
   ],
   "source": [
    "# create a busket\n",
    "try:\n",
    "    s3.create_bucket(Bucket='14848-hw3-bucket', CreateBucketConfiguration={\n",
    "        'LocationConstraint': 'us-west-1'}) \n",
    "except Exception as e:\n",
    "    print (e)\n",
    "    \n",
    "bucket = s3.Bucket(\"14848-hw3-bucket\")\n",
    "bucket.Acl().put(ACL='public-read')"
   ]
  },
  {
   "cell_type": "code",
   "execution_count": 43,
   "id": "69979faf",
   "metadata": {},
   "outputs": [
    {
     "data": {
      "text/plain": [
       "{'ResponseMetadata': {'RequestId': '2PQSPR9AZX9GD75A',\n",
       "  'HostId': 'Fo1oSuxkMd5ToEFbDlAzQIzfy+FoAxdiRSCSYcCVkjAtqUGQkY+r05cINdxTReUmTyVCytGhFKA=',\n",
       "  'HTTPStatusCode': 200,\n",
       "  'HTTPHeaders': {'x-amz-id-2': 'Fo1oSuxkMd5ToEFbDlAzQIzfy+FoAxdiRSCSYcCVkjAtqUGQkY+r05cINdxTReUmTyVCytGhFKA=',\n",
       "   'x-amz-request-id': '2PQSPR9AZX9GD75A',\n",
       "   'date': 'Wed, 20 Oct 2021 00:03:02 GMT',\n",
       "   'server': 'AmazonS3',\n",
       "   'content-length': '0'},\n",
       "  'RetryAttempts': 0}}"
      ]
     },
     "execution_count": 43,
     "metadata": {},
     "output_type": "execute_result"
    }
   ],
   "source": [
    "# upload experiments.csv into busket\n",
    "body = open('datasets/experiments.csv', 'rb')\n",
    "o = s3.Object('14848-hw3-bucket', 'experiments.csv').put(Body=body)\n",
    "s3.Object('14848-hw3-bucket', 'experiments.csv').Acl().put(ACL='public-read')"
   ]
  },
  {
   "cell_type": "code",
   "execution_count": 44,
   "id": "3f3c8357",
   "metadata": {},
   "outputs": [],
   "source": [
    "# create dynamo db resource\n",
    "dyndb = boto3.resource('dynamodb',\n",
    "                       region_name='us-west-1',\n",
    "                       aws_access_key_id=os.getenv('AWS_ACCESS_KEY'),\n",
    "                       aws_secret_access_key=os.getenv('AWS_SECRET_ACCESS_KEY') \n",
    ")"
   ]
  },
  {
   "cell_type": "code",
   "execution_count": 45,
   "id": "d3d823e5",
   "metadata": {},
   "outputs": [
    {
     "name": "stdout",
     "output_type": "stream",
     "text": [
      "An error occurred (ResourceInUseException) when calling the CreateTable operation: Table already exists: DataTable\n"
     ]
    }
   ],
   "source": [
    "# create table in dynamo db\n",
    "try:\n",
    "    table = dyndb.create_table(\n",
    "        TableName='DataTable',\n",
    "        KeySchema=[\n",
    "            {\n",
    "                'AttributeName': 'PartitionKey',\n",
    "                'KeyType': 'HASH'\n",
    "            }, {\n",
    "                'AttributeName': 'RowKey',\n",
    "                'KeyType': 'RANGE'\n",
    "            }\n",
    "        ],\n",
    "        AttributeDefinitions=[\n",
    "            {\n",
    "                'AttributeName': 'PartitionKey',\n",
    "                'AttributeType': 'S'\n",
    "            }, {\n",
    "                'AttributeName': 'RowKey',\n",
    "                'AttributeType': 'S'\n",
    "            },\n",
    "        ],\n",
    "        ProvisionedThroughput={\n",
    "            'ReadCapacityUnits': 5,\n",
    "            'WriteCapacityUnits': 5\n",
    "        }\n",
    ")\n",
    "except Exception as e:\n",
    "    print (e)\n",
    "    table = dyndb.Table(\"DataTable\")\n",
    "    \n",
    "table.meta.client.get_waiter('table_exists').wait(TableName='DataTable')"
   ]
  },
  {
   "cell_type": "code",
   "execution_count": 46,
   "id": "15e968e7",
   "metadata": {},
   "outputs": [
    {
     "name": "stdout",
     "output_type": "stream",
     "text": [
      "['1', '-1', '52', '3.4', 'exp1.csv']\n",
      "['2', '-2', '52.1', '3.4', 'exp2.csv']\n",
      "['3', '-2.93', '57.1', '3.7', 'exp3.csv']\n"
     ]
    }
   ],
   "source": [
    "import csv\n",
    "\n",
    "# columns in experiments.csv: Id, Temp, Conductivity, Concentration, URL\n",
    "with open('datasets/experiments.csv', 'rt') as csvfile: \n",
    "    csvf = csv.reader(csvfile, delimiter=',', quotechar='|')\n",
    "    \n",
    "    # skips the first row of the CSV file.\n",
    "    next(csvf)\n",
    "    \n",
    "    for item in csvf:\n",
    "        print (item)\n",
    "        \n",
    "        # upload exp1, 2, 3 data to s3 bucket\n",
    "        body = open('datasets/'+item[4], 'rb') \n",
    "        s3.Object('14848-hw3-bucket', item[4]).put(Body=body )\n",
    "        md = s3.Object('14848-hw3-bucket', item[4]).Acl().put(ACL='public-read')\n",
    "\n",
    "        url = \"https://s3-us-west-1.amazonaws.com/14848-hw3-bucket/\" + item[4] \n",
    "\n",
    "        \n",
    "        # put items in the table\n",
    "        partition_key = item[4].split('.csv')[0]\n",
    "        metadata_item = {'PartitionKey': partition_key, 'RowKey': item[0], \n",
    "                     'temp' : item[1], 'conductivity' : item[2], 'concentration' : item[3], 'url':url}\n",
    "        \n",
    "        try: \n",
    "            table.put_item(Item=metadata_item)\n",
    "        except:\n",
    "            print (\"item may already be there or another failure\")"
   ]
  },
  {
   "cell_type": "code",
   "execution_count": 47,
   "id": "827e6349",
   "metadata": {},
   "outputs": [
    {
     "name": "stdout",
     "output_type": "stream",
     "text": [
      "Fetch PartitionKey exp1\n",
      "{'temp': '-1', 'RowKey': '1', 'conductivity': '52', 'PartitionKey': 'exp1', 'concentration': '3.4', 'url': 'https://s3-us-west-1.amazonaws.com/14848-hw3-bucket/exp1.csv'}\n",
      "\n",
      "{'Item': {'temp': '-1', 'RowKey': '1', 'conductivity': '52', 'PartitionKey': 'exp1', 'concentration': '3.4', 'url': 'https://s3-us-west-1.amazonaws.com/14848-hw3-bucket/exp1.csv'}, 'ResponseMetadata': {'RequestId': 'OGHPI6BJOJBLGDRRICH1057413VV4KQNSO5AEMVJF66Q9ASUAAJG', 'HTTPStatusCode': 200, 'HTTPHeaders': {'server': 'Server', 'date': 'Wed, 20 Oct 2021 00:03:41 GMT', 'content-type': 'application/x-amz-json-1.0', 'content-length': '204', 'connection': 'keep-alive', 'x-amzn-requestid': 'OGHPI6BJOJBLGDRRICH1057413VV4KQNSO5AEMVJF66Q9ASUAAJG', 'x-amz-crc32': '2891708705'}, 'RetryAttempts': 0}}\n",
      "\n"
     ]
    }
   ],
   "source": [
    "print(\"Fetch PartitionKey exp1\")\n",
    "response = table.get_item(\n",
    "    Key={\n",
    "        'PartitionKey': 'exp1',\n",
    "        'RowKey': '1'\n",
    "    }\n",
    ")\n",
    "item = response['Item'] \n",
    "\n",
    "print(item)\n",
    "print()\n",
    "print(response)\n",
    "print()"
   ]
  },
  {
   "cell_type": "code",
   "execution_count": 48,
   "id": "bf78568b",
   "metadata": {},
   "outputs": [
    {
     "name": "stdout",
     "output_type": "stream",
     "text": [
      "Fetch PartitionKey exp2 \n",
      "\n",
      "{'temp': '-2', 'RowKey': '2', 'conductivity': '52.1', 'PartitionKey': 'exp2', 'concentration': '3.4', 'url': 'https://s3-us-west-1.amazonaws.com/14848-hw3-bucket/exp2.csv'}\n",
      "\n",
      "{'Item': {'temp': '-2', 'RowKey': '2', 'conductivity': '52.1', 'PartitionKey': 'exp2', 'concentration': '3.4', 'url': 'https://s3-us-west-1.amazonaws.com/14848-hw3-bucket/exp2.csv'}, 'ResponseMetadata': {'RequestId': 'SLTPELPU5IJRD1DSNJ0LTSJIR7VV4KQNSO5AEMVJF66Q9ASUAAJG', 'HTTPStatusCode': 200, 'HTTPHeaders': {'server': 'Server', 'date': 'Wed, 20 Oct 2021 00:03:42 GMT', 'content-type': 'application/x-amz-json-1.0', 'content-length': '206', 'connection': 'keep-alive', 'x-amzn-requestid': 'SLTPELPU5IJRD1DSNJ0LTSJIR7VV4KQNSO5AEMVJF66Q9ASUAAJG', 'x-amz-crc32': '1371533744'}, 'RetryAttempts': 0}}\n",
      "\n"
     ]
    }
   ],
   "source": [
    "print(\"Fetch PartitionKey exp2 \\n\")\n",
    "response = table.get_item(\n",
    "    Key={\n",
    "        'PartitionKey': 'exp2',\n",
    "        'RowKey': '2'\n",
    "    }\n",
    ")\n",
    "item = response['Item'] \n",
    "\n",
    "print(item)\n",
    "print()\n",
    "print(response)\n",
    "print()"
   ]
  },
  {
   "cell_type": "code",
   "execution_count": 49,
   "id": "3b376cf7",
   "metadata": {},
   "outputs": [
    {
     "name": "stdout",
     "output_type": "stream",
     "text": [
      "Fetch PartitionKey exp3 \n",
      "\n",
      "{'temp': '-2.93', 'RowKey': '3', 'conductivity': '57.1', 'PartitionKey': 'exp3', 'concentration': '3.7', 'url': 'https://s3-us-west-1.amazonaws.com/14848-hw3-bucket/exp3.csv'}\n",
      "\n",
      "{'Item': {'temp': '-2.93', 'RowKey': '3', 'conductivity': '57.1', 'PartitionKey': 'exp3', 'concentration': '3.7', 'url': 'https://s3-us-west-1.amazonaws.com/14848-hw3-bucket/exp3.csv'}, 'ResponseMetadata': {'RequestId': 'D5AJFF12RT1EP8RLT96RS2AKANVV4KQNSO5AEMVJF66Q9ASUAAJG', 'HTTPStatusCode': 200, 'HTTPHeaders': {'server': 'Server', 'date': 'Wed, 20 Oct 2021 00:03:42 GMT', 'content-type': 'application/x-amz-json-1.0', 'content-length': '209', 'connection': 'keep-alive', 'x-amzn-requestid': 'D5AJFF12RT1EP8RLT96RS2AKANVV4KQNSO5AEMVJF66Q9ASUAAJG', 'x-amz-crc32': '1819576774'}, 'RetryAttempts': 0}}\n",
      "\n"
     ]
    }
   ],
   "source": [
    "print(\"Fetch PartitionKey exp3 \\n\")\n",
    "response = table.get_item(\n",
    "    Key={\n",
    "        'PartitionKey': 'exp3',\n",
    "        'RowKey': '3'\n",
    "    }\n",
    ")\n",
    "item = response['Item'] \n",
    "\n",
    "print(item)\n",
    "print()\n",
    "print(response)\n",
    "print()"
   ]
  }
 ],
 "metadata": {
  "kernelspec": {
   "display_name": "Python 3",
   "language": "python",
   "name": "python3"
  },
  "language_info": {
   "codemirror_mode": {
    "name": "ipython",
    "version": 3
   },
   "file_extension": ".py",
   "mimetype": "text/x-python",
   "name": "python",
   "nbconvert_exporter": "python",
   "pygments_lexer": "ipython3",
   "version": "3.8.8"
  }
 },
 "nbformat": 4,
 "nbformat_minor": 5
}
